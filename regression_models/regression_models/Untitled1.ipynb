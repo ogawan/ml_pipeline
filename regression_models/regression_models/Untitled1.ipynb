{
 "cells": [
  {
   "cell_type": "code",
   "execution_count": 1,
   "metadata": {},
   "outputs": [
    {
     "name": "stdout",
     "output_type": "stream",
     "text": [
      "VERSION_PATH: /work/ml_pipeline/regression_models/regression_models/VERSION\n",
      "VERSION: \"0.1.0\"\n"
     ]
    }
   ],
   "source": [
    "import sys\n",
    "sys.path.insert(0, \"/work/ml_pipeline/regression_models/\")\n",
    "\n",
    "\n",
    "import numpy as np\n",
    "import pandas as pd\n",
    "from regression_models.processing.data_management import load_pipeline\n",
    "from regression_models.config import config\n",
    "#from regression_models.processing.validation import validate_inputs\n",
    "from regression_models import __version__ as _version\n",
    "from processing.data_management import load_dataset, save_pipeline\n",
    "from sklearn.model_selection import train_test_split\n",
    "from processing import preprocessors as pp\n",
    "\n",
    "import logging\n",
    "import typing as t\n",
    "\n",
    "data = load_dataset(file_name=config.TRAINING_DATA_FILE)\n",
    "\n",
    "# divide train and test\n",
    "X_train, X_test, y_train, y_test = train_test_split(\n",
    "        data[config.FEATURES], data[config.TARGET], test_size=0.1, random_state=0) "
   ]
  },
  {
   "cell_type": "code",
   "execution_count": 2,
   "metadata": {},
   "outputs": [
    {
     "data": {
      "text/plain": [
       "array([-6.20094644, -4.94644092, -2.89495374, -1.77817527, -7.72319258,\n",
       "       -3.85826783, -5.7011946 , -2.85960731, -4.95617208, -1.50842791,\n",
       "       -2.93543274, -3.47320955, -4.88458098, -1.15853648, -2.2395886 ,\n",
       "       -2.34774178, -4.19133195, -1.8433815 , -0.1073632 , -3.21469059,\n",
       "       -4.54788315, -2.98882402, -5.23450201, -2.26384048, -2.51822504,\n",
       "       -2.55360572, -3.20783105, -5.44060757, -1.40232255, -4.96251581,\n",
       "       -2.04483598, -1.16862764, -1.41993944, -3.61186825, -2.8901839 ,\n",
       "       -4.68143133, -2.40995336, -2.25228913, -1.19886835, -3.75783895,\n",
       "       -2.32145281, -3.16108163, -2.65406196, -0.69420876, -1.20683394,\n",
       "       -3.38653949, -3.59479052, -2.72974589, -1.78024479, -0.41885844,\n",
       "       -3.37411339, -6.06729481, -2.72660091, -2.13159037, -3.86514224,\n",
       "       -1.57753779, -3.80639161, -1.97642724, -2.71389911, -1.87587108,\n",
       "       -1.66284117, -2.12580137, -4.12206976, -7.14215909, -3.11070076,\n",
       "       -5.01502498, -5.63811085, -4.33783922, -3.06043917, -6.02067706,\n",
       "       -4.88458098, -2.53689266, -4.15221617, -1.77724687, -2.32704435,\n",
       "       -3.33739958, -4.06153649, -2.9611974 , -2.43535357, -2.24261291,\n",
       "       -2.77601908, -6.50415763, -3.89892081, -3.5890084 , -0.8704034 ,\n",
       "       -1.63068494, -2.06817613, -3.28462462, -5.57161723, -3.49862936,\n",
       "       -2.54494287, -2.08163714, -2.87738937, -7.34036025, -7.81341195,\n",
       "       -1.54661646, -3.93597689, -4.33625421, -2.97316386, -1.17733076,\n",
       "       -3.72335198, -1.61464776, -0.67200957, -1.50782558, -1.7309036 ,\n",
       "       -2.34276368, -1.61242463, -3.44120196, -1.2534809 , -3.11621437,\n",
       "       -6.82517717, -5.27822685, -3.9388145 ,  0.21151066, -6.39868044])"
      ]
     },
     "execution_count": 2,
     "metadata": {},
     "output_type": "execute_result"
    }
   ],
   "source": [
    "pipeline_file_name = f\"{config.PIPELINE_SAVE_FILE}{_version}.pkl\"\n",
    "_price_pipe = load_pipeline(file_name=pipeline_file_name)\n",
    "\n",
    "y_pred = _price_pipe.predict(X_test)\n",
    "\n",
    "y_pred"
   ]
  },
  {
   "cell_type": "code",
   "execution_count": 3,
   "metadata": {},
   "outputs": [
    {
     "data": {
      "text/plain": [
       "<matplotlib.collections.PathCollection at 0x7f0b6cd5a610>"
      ]
     },
     "execution_count": 3,
     "metadata": {},
     "output_type": "execute_result"
    },
    {
     "data": {
      "image/png": "[encoded data removed]",
      "text/plain": [
       "<Figure size 432x288 with 1 Axes>"
      ]
     },
     "metadata": {
      "needs_background": "light"
     },
     "output_type": "display_data"
    }
   ],
   "source": [
    "import numpy as np\n",
    "import matplotlib.pyplot as plt\n",
    " \n",
    "# 乱数を生成\n",
    "plt.scatter(y_test,y_pred)"
   ]
  }
 ],
 "metadata": {
  "kernelspec": {
   "display_name": "Python 3",
   "language": "python",
   "name": "python3"
  },
  "language_info": {
   "codemirror_mode": {
    "name": "ipython",
    "version": 3
   },
   "file_extension": ".py",
   "mimetype": "text/x-python",
   "name": "python",
   "nbconvert_exporter": "python",
   "pygments_lexer": "ipython3",
   "version": "3.7.6"
  }
 },
 "nbformat": 4,
 "nbformat_minor": 4
}
