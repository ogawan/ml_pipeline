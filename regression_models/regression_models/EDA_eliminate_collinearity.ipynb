{
 "cells": [
  {
   "cell_type": "markdown",
   "metadata": {},
   "source": [
    "Eliminate collinearity of the rdkit descriptors: "
   ]
  },
  {
   "cell_type": "code",
   "execution_count": 1,
   "metadata": {},
   "outputs": [
    {
     "name": "stdout",
     "output_type": "stream",
     "text": [
      "VERSION_PATH: /work/ml_pipeline/regression_models/regression_models/VERSION\n",
      "VERSION: \"0.1.0\"\n",
      "Generating rdkit descriptors...\n"
     ]
    }
   ],
   "source": [
    "import sys\n",
    "sys.path.insert(0, \"/work/ml_pipeline/regression_models/\")\n",
    "import regression_models\n",
    "import numpy as np\n",
    "from sklearn.model_selection import train_test_split\n",
    "import pipeline\n",
    "from processing.data_management import load_dataset, save_pipeline\n",
    "from config import config\n",
    "from regression_models import __version__ as _version\n",
    "from processing import preprocessors as pp\n",
    "\n",
    "data = load_dataset(file_name=config.TRAINING_DATA_FILE)\n",
    "\n",
    "# divide train and test\n",
    "X_train, X_test, y_train, y_test = train_test_split(\n",
    "        data[config.FEATURES], data[config.TARGET], test_size=0.1, random_state=0) "
   ]
  },
  {
   "cell_type": "code",
   "execution_count": 2,
   "metadata": {},
   "outputs": [
    {
     "name": "stdout",
     "output_type": "stream",
     "text": [
      "Generating rdkit descriptors...\n"
     ]
    }
   ],
   "source": [
    "converter = pp.SmilestoDescriptors()\n",
    "X_train = converter.fit_transform(X_train)"
   ]
  },
  {
   "cell_type": "code",
   "execution_count": 3,
   "metadata": {},
   "outputs": [
    {
     "name": "stderr",
     "output_type": "stream",
     "text": [
      "/opt/anaconda3/lib/python3.7/site-packages/statsmodels/regression/linear_model.py:1685: RuntimeWarning: invalid value encountered in double_scalars\n",
      "  return 1 - self.ssr/self.centered_tss\n"
     ]
    },
    {
     "name": "stdout",
     "output_type": "stream",
     "text": [
      "dropping 'SlogP_VSA12' at index: 64\n",
      "dropping 'EState_VSA7' at index: 81\n",
      "dropping 'SMR_VSA10' at index: 52\n"
     ]
    },
    {
     "name": "stderr",
     "output_type": "stream",
     "text": [
      "/opt/anaconda3/lib/python3.7/site-packages/statsmodels/regression/linear_model.py:1687: RuntimeWarning: invalid value encountered in double_scalars\n",
      "  return 1 - self.ssr/self.uncentered_tss\n"
     ]
    },
    {
     "name": "stdout",
     "output_type": "stream",
     "text": [
      "dropping 'NumAromaticRings' at index: 101\n",
      "dropping 'NumSaturatedCarbocycles' at index: 105\n",
      "dropping 'RingCount' at index: 107\n",
      "dropping 'NumAliphaticRings' at index: 98\n",
      "dropping 'MaxAbsEStateIndex' at index: 2\n",
      "dropping 'fr_Nhpyrrole' at index: 128\n",
      "dropping 'fr_C_O' at index: 117\n",
      "dropping 'NumHDonors' at index: 100\n",
      "dropping 'NumAromaticCarbocycles' at index: 97\n",
      "dropping 'fr_phos_acid' at index: 170\n",
      "dropping 'ExactMolWt' at index: 6\n",
      "dropping 'MolWt' at index: 4\n",
      "dropping 'LabuteASA' at index: 33\n",
      "dropping 'NumValenceElectrons' at index: 5\n",
      "dropping 'Chi0' at index: 15\n",
      "dropping 'HeavyAtomCount' at index: 87\n",
      "dropping 'MolMR' at index: 98\n",
      "dropping 'Chi0n' at index: 15\n",
      "dropping 'Chi1' at index: 16\n",
      "dropping 'Chi0v' at index: 15\n",
      "dropping 'Chi1n' at index: 15\n",
      "dropping 'Kappa1' at index: 24\n",
      "dropping 'NumHeteroatoms' at index: 88\n",
      "dropping 'PEOE_VSA6' at index: 36\n",
      "dropping 'NHOHCount' at index: 81\n",
      "dropping 'Chi1v' at index: 15\n",
      "dropping 'NOCount' at index: 80\n",
      "dropping 'SMR_VSA7' at index: 44\n",
      "dropping 'TPSA' at index: 57\n",
      "dropping 'MaxAbsPartialCharge' at index: 8\n",
      "dropping 'MolLogP' at index: 84\n",
      "dropping 'HeavyAtomMolWt' at index: 4\n",
      "dropping 'VSA_EState2' at index: 67\n",
      "dropping 'Chi2n' at index: 13\n",
      "dropping 'FpDensityMorgan2' at index: 9\n",
      "dropping 'SMR_VSA1' at index: 34\n",
      "dropping 'Chi3n' at index: 13\n",
      "dropping 'SlogP_VSA6' at index: 47\n",
      "dropping 'HallKierAlpha' at index: 16\n",
      "dropping 'SlogP_VSA2' at index: 42\n",
      "dropping 'VSA_EState10' at index: 59\n",
      "dropping 'NumHAcceptors' at index: 70\n",
      "dropping 'BertzCT' at index: 11\n",
      "dropping 'Chi4n' at index: 13\n",
      "dropping 'fr_C_O_noCOO' at index: 81\n",
      "dropping 'fr_benzene' at index: 102\n",
      "dropping 'PEOE_VSA1' at index: 17\n",
      "dropping 'fr_NH0' at index: 83\n",
      "dropping 'Kappa2' at index: 15\n",
      "dropping 'Chi3v' at index: 12\n",
      "dropping 'SMR_VSA5' at index: 30\n",
      "dropping 'VSA_EState3' at index: 53\n",
      "dropping 'Chi2v' at index: 11\n",
      "dropping 'MaxPartialCharge' at index: 5\n",
      "dropping 'fr_phenol' at index: 124\n",
      "dropping 'MaxEStateIndex' at index: 0\n",
      "dropping 'FpDensityMorgan3' at index: 7\n",
      "dropping 'NumAliphaticCarbocycles' at index: 56\n",
      "dropping 'SlogP_VSA10' at index: 30\n",
      "dropping 'fr_Ar_N' at index: 65\n",
      "dropping 'SlogP_VSA5' at index: 33\n",
      "dropping 'fr_Al_OH' at index: 60\n",
      "dropping 'SMR_VSA2' at index: 23\n",
      "dropping 'EState_VSA9' at index: 44\n",
      "dropping 'qed' at index: 2\n",
      "dropping 'fr_amide' at index: 77\n",
      "dropping 'EState_VSA1' at index: 34\n",
      "dropping 'BalabanJ' at index: 6\n",
      "dropping 'SlogP_VSA1' at index: 26\n",
      "dropping 'MinAbsPartialCharge' at index: 4\n",
      "dropping 'NumAromaticHeterocycles' at index: 48\n",
      "dropping 'fr_nitro' at index: 101\n",
      "dropping 'Chi4v' at index: 5\n",
      "dropping 'fr_halogen' at index: 86\n",
      "dropping 'NumRotatableBonds' at index: 47\n",
      "dropping 'MinPartialCharge' at index: 3\n",
      "dropping 'fr_Ar_OH' at index: 53\n",
      "dropping 'SMR_VSA4' at index: 19\n",
      "dropping 'EState_VSA10' at index: 28\n",
      "dropping 'PEOE_VSA2' at index: 11\n",
      "dropping 'VSA_EState7' at index: 38\n",
      "dropping 'fr_NH2' at index: 55\n",
      "dropping 'VSA_EState1' at index: 34\n",
      "dropping 'NumSaturatedHeterocycles' at index: 41\n",
      "dropping 'fr_ketone' at index: 82\n",
      "dropping 'PEOE_VSA7' at index: 14\n",
      "dropping 'fr_imide' at index: 78\n",
      "dropping 'SMR_VSA6' at index: 17\n",
      "dropping 'FractionCSP3' at index: 37\n",
      "Remaining variables:\n",
      "Index(['MinEStateIndex', 'MinAbsEStateIndex', 'NumRadicalElectrons',\n",
      "       'FpDensityMorgan1', 'Ipc', 'Kappa3', 'PEOE_VSA10', 'PEOE_VSA11',\n",
      "       'PEOE_VSA12', 'PEOE_VSA13',\n",
      "       ...\n",
      "       'fr_sulfide', 'fr_sulfonamd', 'fr_sulfone', 'fr_term_acetylene',\n",
      "       'fr_tetrazole', 'fr_thiazole', 'fr_thiocyan', 'fr_thiophene',\n",
      "       'fr_unbrch_alkane', 'fr_urea'],\n",
      "      dtype='object', length=108)\n"
     ]
    }
   ],
   "source": [
    "converter = pp.DropChollinearityVif()\n",
    "X_train = converter.fit_transform(X_train)"
   ]
  },
  {
   "cell_type": "code",
   "execution_count": 4,
   "metadata": {},
   "outputs": [
    {
     "data": {
      "text/plain": [
       "array(['MinEStateIndex', 'MinAbsEStateIndex', 'NumRadicalElectrons',\n",
       "       'FpDensityMorgan1', 'Ipc', 'Kappa3', 'PEOE_VSA10', 'PEOE_VSA11',\n",
       "       'PEOE_VSA12', 'PEOE_VSA13', 'PEOE_VSA14', 'PEOE_VSA3', 'PEOE_VSA4',\n",
       "       'PEOE_VSA5', 'PEOE_VSA8', 'PEOE_VSA9', 'SMR_VSA3', 'SMR_VSA8',\n",
       "       'SMR_VSA9', 'SlogP_VSA11', 'SlogP_VSA3', 'SlogP_VSA4',\n",
       "       'SlogP_VSA7', 'SlogP_VSA8', 'SlogP_VSA9', 'EState_VSA11',\n",
       "       'EState_VSA2', 'EState_VSA3', 'EState_VSA4', 'EState_VSA5',\n",
       "       'EState_VSA6', 'EState_VSA8', 'VSA_EState4', 'VSA_EState5',\n",
       "       'VSA_EState6', 'VSA_EState8', 'VSA_EState9',\n",
       "       'NumAliphaticHeterocycles', 'NumSaturatedRings', 'fr_Al_COO',\n",
       "       'fr_Al_OH_noTert', 'fr_ArN', 'fr_Ar_COO', 'fr_Ar_NH', 'fr_COO',\n",
       "       'fr_COO2', 'fr_C_S', 'fr_HOCCN', 'fr_Imine', 'fr_NH1', 'fr_N_O',\n",
       "       'fr_Ndealkylation1', 'fr_Ndealkylation2', 'fr_SH', 'fr_aldehyde',\n",
       "       'fr_alkyl_carbamate', 'fr_alkyl_halide', 'fr_allylic_oxid',\n",
       "       'fr_amidine', 'fr_aniline', 'fr_aryl_methyl', 'fr_azide', 'fr_azo',\n",
       "       'fr_barbitur', 'fr_benzodiazepine', 'fr_bicyclic', 'fr_diazo',\n",
       "       'fr_dihydropyridine', 'fr_epoxide', 'fr_ester', 'fr_ether',\n",
       "       'fr_furan', 'fr_guanido', 'fr_hdrzine', 'fr_hdrzone',\n",
       "       'fr_imidazole', 'fr_isocyan', 'fr_isothiocyan',\n",
       "       'fr_ketone_Topliss', 'fr_lactam', 'fr_lactone', 'fr_methoxy',\n",
       "       'fr_morpholine', 'fr_nitrile', 'fr_nitro_arom',\n",
       "       'fr_nitro_arom_nonortho', 'fr_nitroso', 'fr_oxazole', 'fr_oxime',\n",
       "       'fr_para_hydroxylation', 'fr_phenol_noOrthoHbond', 'fr_phos_ester',\n",
       "       'fr_piperdine', 'fr_piperzine', 'fr_priamide', 'fr_prisulfonamd',\n",
       "       'fr_pyridine', 'fr_quatN', 'fr_sulfide', 'fr_sulfonamd',\n",
       "       'fr_sulfone', 'fr_term_acetylene', 'fr_tetrazole', 'fr_thiazole',\n",
       "       'fr_thiocyan', 'fr_thiophene', 'fr_unbrch_alkane', 'fr_urea'],\n",
       "      dtype=object)"
      ]
     },
     "execution_count": 4,
     "metadata": {},
     "output_type": "execute_result"
    }
   ],
   "source": [
    "X_train.columns.values"
   ]
  }
 ],
 "metadata": {
  "kernelspec": {
   "display_name": "Python 3",
   "language": "python",
   "name": "python3"
  },
  "language_info": {
   "codemirror_mode": {
    "name": "ipython",
    "version": 3
   },
   "file_extension": ".py",
   "mimetype": "text/x-python",
   "name": "python",
   "nbconvert_exporter": "python",
   "pygments_lexer": "ipython3",
   "version": "3.7.6"
  }
 },
 "nbformat": 4,
 "nbformat_minor": 4
}
