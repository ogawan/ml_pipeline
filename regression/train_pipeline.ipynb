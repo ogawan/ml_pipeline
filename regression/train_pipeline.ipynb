{
 "cells": [
  {
   "cell_type": "code",
   "execution_count": null,
   "metadata": {},
   "outputs": [],
   "source": [
    "import numpy as np\n",
    "from sklearn.model_selection import train_test_split\n",
    "\n",
    "from regression_model import pipeline\n",
    "from regression_model.processing.data_management import load_dataset, save_pipeline\n",
    "from regression_model.config import config\n",
    "from regression_model import __version__ as _version\n",
    "\n",
    "import logging\n",
    "\n",
    "_logger = logging.getLogger(__name__)\n",
    "\n",
    "def run_training() -> None:\n",
    "    \"\"\"Train the model\"\"\"\n",
    "    \n",
    "    #read the training data\n",
    "    data = load_dataset(file_name=config.TRAINING_DATA_FILE)\n",
    "    \n",
    "    #divide train and test\n",
    "    X_train, X_test, y_train, y_test = train_test_split(\n",
    "    data[config.SMILES], data[config.logS], test_size=0.1, random_state=0\n",
    "    )\n",
    "    \n",
    "    #transform the target\n",
    "    y_train = np.log(y_train)\n",
    "    \n",
    "    #transform the target\n",
    "    pipeline.price_pipe.fit(X_train[config.FEATURES], y_train)\n",
    "    \n",
    "    _logger.info(f\"saving model version: {_version}\")\n",
    "    save_pipeline(pipeline_to_persist=pipeline.price_pipe)\n",
    "    \n",
    "if __name__  == \"__main__\":\n",
    "    run_training()"
   ]
  }
 ],
 "metadata": {
  "kernelspec": {
   "display_name": "Python 3",
   "language": "python",
   "name": "python3"
  },
  "language_info": {
   "codemirror_mode": {
    "name": "ipython",
    "version": 3
   },
   "file_extension": ".py",
   "mimetype": "text/x-python",
   "name": "python",
   "nbconvert_exporter": "python",
   "pygments_lexer": "ipython3",
   "version": "3.7.6"
  }
 },
 "nbformat": 4,
 "nbformat_minor": 4
}
